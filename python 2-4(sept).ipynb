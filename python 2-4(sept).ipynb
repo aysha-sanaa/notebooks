{
 "cells": [
  {
   "cell_type": "markdown",
   "id": "0606389d",
   "metadata": {},
   "source": [
    "# Data types"
   ]
  },
  {
   "cell_type": "markdown",
   "id": "d9cf412a",
   "metadata": {},
   "source": [
    "### numeric data types"
   ]
  },
  {
   "cell_type": "code",
   "execution_count": 3,
   "id": "d2c0b6ae",
   "metadata": {},
   "outputs": [
    {
     "name": "stdout",
     "output_type": "stream",
     "text": [
      "<class 'int'>\n"
     ]
    }
   ],
   "source": [
    "num = 5\n",
    "print(type(num))"
   ]
  },
  {
   "cell_type": "code",
   "execution_count": 2,
   "id": "f2c7b9de",
   "metadata": {},
   "outputs": [
    {
     "name": "stdout",
     "output_type": "stream",
     "text": [
      "<class 'float'>\n"
     ]
    }
   ],
   "source": [
    "num = 2.5\n",
    "print(type(num))\n",
    "#print(num)"
   ]
  },
  {
   "cell_type": "code",
   "execution_count": 6,
   "id": "033b6d9e",
   "metadata": {},
   "outputs": [
    {
     "name": "stdout",
     "output_type": "stream",
     "text": [
      "<class 'complex'>\n"
     ]
    }
   ],
   "source": [
    "num = 6+9j\n",
    "print(type(num)) "
   ]
  },
  {
   "cell_type": "code",
   "execution_count": 8,
   "id": "19ea1518",
   "metadata": {},
   "outputs": [
    {
     "data": {
      "text/plain": [
       "5"
      ]
     },
     "execution_count": 8,
     "metadata": {},
     "output_type": "execute_result"
    }
   ],
   "source": [
    "a = 5.6\n",
    "b = int(a)\n",
    "type(b)\n",
    "b\n"
   ]
  },
  {
   "cell_type": "code",
   "execution_count": 9,
   "id": "3bfe2aea",
   "metadata": {},
   "outputs": [
    {
     "data": {
      "text/plain": [
       "5.0"
      ]
     },
     "execution_count": 9,
     "metadata": {},
     "output_type": "execute_result"
    }
   ],
   "source": [
    "k = float(b)\n",
    "k "
   ]
  },
  {
   "cell_type": "code",
   "execution_count": 10,
   "id": "967dfa18",
   "metadata": {},
   "outputs": [
    {
     "data": {
      "text/plain": [
       "(5+6j)"
      ]
     },
     "execution_count": 10,
     "metadata": {},
     "output_type": "execute_result"
    }
   ],
   "source": [
    "k = 6\n",
    "c = complex(b,k)\n",
    "c"
   ]
  },
  {
   "cell_type": "code",
   "execution_count": 11,
   "id": "09296482",
   "metadata": {},
   "outputs": [
    {
     "data": {
      "text/plain": [
       "True"
      ]
     },
     "execution_count": 11,
     "metadata": {},
     "output_type": "execute_result"
    }
   ],
   "source": [
    "b<k"
   ]
  },
  {
   "cell_type": "code",
   "execution_count": 12,
   "id": "a7009265",
   "metadata": {},
   "outputs": [
    {
     "data": {
      "text/plain": [
       "False"
      ]
     },
     "execution_count": 12,
     "metadata": {},
     "output_type": "execute_result"
    }
   ],
   "source": [
    "b>k"
   ]
  },
  {
   "cell_type": "code",
   "execution_count": 13,
   "id": "7353e3f0",
   "metadata": {},
   "outputs": [
    {
     "data": {
      "text/plain": [
       "1"
      ]
     },
     "execution_count": 13,
     "metadata": {},
     "output_type": "execute_result"
    }
   ],
   "source": [
    "int(True)"
   ]
  },
  {
   "cell_type": "code",
   "execution_count": 14,
   "id": "1dbba0f1",
   "metadata": {},
   "outputs": [
    {
     "data": {
      "text/plain": [
       "0"
      ]
     },
     "execution_count": 14,
     "metadata": {},
     "output_type": "execute_result"
    }
   ],
   "source": [
    "int(False)"
   ]
  },
  {
   "cell_type": "markdown",
   "id": "f2c9c947",
   "metadata": {},
   "source": [
    "### sequence data types"
   ]
  },
  {
   "cell_type": "code",
   "execution_count": 15,
   "id": "941ba05a",
   "metadata": {},
   "outputs": [
    {
     "name": "stdout",
     "output_type": "stream",
     "text": [
      "<class 'list'>\n"
     ]
    }
   ],
   "source": [
    "lst = [25,12,45,2.5]\n",
    "print(type(lst))"
   ]
  },
  {
   "cell_type": "code",
   "execution_count": 16,
   "id": "c8d0f174",
   "metadata": {},
   "outputs": [
    {
     "name": "stdout",
     "output_type": "stream",
     "text": [
      "<class 'tuple'>\n"
     ]
    }
   ],
   "source": [
    "t = (25,36,4,57,12)\n",
    "print(type(t))"
   ]
  },
  {
   "cell_type": "code",
   "execution_count": 4,
   "id": "2bde851f",
   "metadata": {},
   "outputs": [
    {
     "name": "stdout",
     "output_type": "stream",
     "text": [
      "<class 'set'>\n"
     ]
    }
   ],
   "source": [
    "s = {34,5.7,78,0}\n",
    "print(type(s))"
   ]
  },
  {
   "cell_type": "code",
   "execution_count": 17,
   "id": "7fc3d0c8",
   "metadata": {},
   "outputs": [
    {
     "name": "stdout",
     "output_type": "stream",
     "text": [
      "12\n",
      "<class 'str'>\n"
     ]
    }
   ],
   "source": [
    "a = \"Hello,World!\"\n",
    "print(len(a))            #To get the length of a string, use the len() function\n",
    "print(type(a))"
   ]
  },
  {
   "cell_type": "code",
   "execution_count": 19,
   "id": "8c3f4684",
   "metadata": {},
   "outputs": [
    {
     "name": "stdout",
     "output_type": "stream",
     "text": [
      "False\n"
     ]
    }
   ],
   "source": [
    "txt = \"The best things in life are free!\"\n",
    "print(\"free\" not in txt)"
   ]
  },
  {
   "cell_type": "code",
   "execution_count": 20,
   "id": "1e81999a",
   "metadata": {},
   "outputs": [
    {
     "name": "stdout",
     "output_type": "stream",
     "text": [
      "HELLO,WORLD!\n"
     ]
    }
   ],
   "source": [
    "a = \"Hello,World!\"\n",
    "print(a.upper())"
   ]
  },
  {
   "cell_type": "code",
   "execution_count": 21,
   "id": "2752df3c",
   "metadata": {},
   "outputs": [
    {
     "data": {
      "text/plain": [
       "[0, 1, 2, 3, 4, 5, 6, 7, 8, 9]"
      ]
     },
     "execution_count": 21,
     "metadata": {},
     "output_type": "execute_result"
    }
   ],
   "source": [
    "range(10)\n",
    "range(0,10)\n",
    "list(range(10))"
   ]
  },
  {
   "cell_type": "code",
   "execution_count": 22,
   "id": "87a38c99",
   "metadata": {},
   "outputs": [
    {
     "data": {
      "text/plain": [
       "[2, 4, 6, 8]"
      ]
     },
     "execution_count": 22,
     "metadata": {},
     "output_type": "execute_result"
    }
   ],
   "source": [
    "list(range(2,10,2))"
   ]
  },
  {
   "cell_type": "markdown",
   "id": "687f25bf",
   "metadata": {},
   "source": [
    "### Dictionary"
   ]
  },
  {
   "cell_type": "code",
   "execution_count": 23,
   "id": "080fcb4f",
   "metadata": {},
   "outputs": [
    {
     "data": {
      "text/plain": [
       "{'ravi': 'samsung', 'rahul': 'iphone', 'kiran': 'oneplus'}"
      ]
     },
     "execution_count": 23,
     "metadata": {},
     "output_type": "execute_result"
    }
   ],
   "source": [
    "d = {'ravi':'samsung','rahul':'iphone','kiran':'oneplus'}\n",
    "d"
   ]
  },
  {
   "cell_type": "code",
   "execution_count": 24,
   "id": "adda6086",
   "metadata": {},
   "outputs": [
    {
     "data": {
      "text/plain": [
       "dict_keys(['ravi', 'rahul', 'kiran'])"
      ]
     },
     "execution_count": 24,
     "metadata": {},
     "output_type": "execute_result"
    }
   ],
   "source": [
    "d.keys()"
   ]
  },
  {
   "cell_type": "code",
   "execution_count": 25,
   "id": "47719317",
   "metadata": {},
   "outputs": [
    {
     "data": {
      "text/plain": [
       "dict_values(['samsung', 'iphone', 'oneplus'])"
      ]
     },
     "execution_count": 25,
     "metadata": {},
     "output_type": "execute_result"
    }
   ],
   "source": [
    "d.values()"
   ]
  },
  {
   "cell_type": "code",
   "execution_count": 26,
   "id": "4a3747c5",
   "metadata": {},
   "outputs": [
    {
     "data": {
      "text/plain": [
       "'iphone'"
      ]
     },
     "execution_count": 26,
     "metadata": {},
     "output_type": "execute_result"
    }
   ],
   "source": [
    "d['rahul']"
   ]
  },
  {
   "cell_type": "code",
   "execution_count": 27,
   "id": "90824275",
   "metadata": {},
   "outputs": [
    {
     "data": {
      "text/plain": [
       "'oneplus'"
      ]
     },
     "execution_count": 27,
     "metadata": {},
     "output_type": "execute_result"
    }
   ],
   "source": [
    "d.get('kiran')"
   ]
  },
  {
   "cell_type": "code",
   "execution_count": null,
   "id": "b892023a",
   "metadata": {},
   "outputs": [],
   "source": [
    "a = 10\n",
    "name =\"john\"\n",
    "salary = 2000.24"
   ]
  },
  {
   "cell_type": "markdown",
   "id": "81d6d16d",
   "metadata": {},
   "source": [
    "# operators"
   ]
  },
  {
   "cell_type": "markdown",
   "id": "294b4d75",
   "metadata": {},
   "source": [
    "### Arithmetic"
   ]
  },
  {
   "cell_type": "code",
   "execution_count": 28,
   "id": "bb16f8aa",
   "metadata": {},
   "outputs": [
    {
     "name": "stdout",
     "output_type": "stream",
     "text": [
      "15 -5 50 0.5 5\n"
     ]
    }
   ],
   "source": [
    "a = 5\n",
    "b = 10\n",
    "add = a+b\n",
    "sub = a-b\n",
    "mul = a*b\n",
    "div = a/b\n",
    "mod = a%b\n",
    "print(add,sub,mul,div,mod)"
   ]
  },
  {
   "cell_type": "markdown",
   "id": "98544994",
   "metadata": {},
   "source": [
    "### logical"
   ]
  },
  {
   "cell_type": "code",
   "execution_count": 29,
   "id": "77570f14",
   "metadata": {},
   "outputs": [
    {
     "name": "stdout",
     "output_type": "stream",
     "text": [
      "False\n",
      "True\n",
      "False\n"
     ]
    }
   ],
   "source": [
    "a = True\n",
    "b = False\n",
    "\n",
    "print(a and b)     #true if both the operands are true\n",
    "print(a or b)      #true if any one operand is true\n",
    "print(not a)       #true if the operand is false"
   ]
  },
  {
   "cell_type": "markdown",
   "id": "213e66d3",
   "metadata": {},
   "source": [
    "### Comparision"
   ]
  },
  {
   "cell_type": "code",
   "execution_count": 5,
   "id": "a56e0313",
   "metadata": {},
   "outputs": [
    {
     "name": "stdout",
     "output_type": "stream",
     "text": [
      "True\n",
      "False\n",
      "False\n",
      "True\n",
      "True\n",
      "False\n"
     ]
    }
   ],
   "source": [
    "a = 12\n",
    "b = 10\n",
    "\n",
    "print(a>b)\n",
    "print(a<b)\n",
    "print(a==b)\n",
    "print(a!=b)\n",
    "print(a>=b)\n",
    "print(a<=b)"
   ]
  },
  {
   "cell_type": "markdown",
   "id": "e26cb44a",
   "metadata": {},
   "source": [
    "### Bitwise"
   ]
  },
  {
   "cell_type": "code",
   "execution_count": 30,
   "id": "4f20da0e",
   "metadata": {},
   "outputs": [
    {
     "name": "stdout",
     "output_type": "stream",
     "text": [
      "0\n"
     ]
    }
   ],
   "source": [
    "a=10\n",
    "b=4\n",
    "print(a&b)"
   ]
  },
  {
   "cell_type": "code",
   "execution_count": 31,
   "id": "89165d9b",
   "metadata": {},
   "outputs": [
    {
     "name": "stdout",
     "output_type": "stream",
     "text": [
      "14\n"
     ]
    }
   ],
   "source": [
    "a=10\n",
    "b=4\n",
    "print(a|b)"
   ]
  },
  {
   "cell_type": "code",
   "execution_count": 34,
   "id": "7a9fc745",
   "metadata": {},
   "outputs": [
    {
     "name": "stdout",
     "output_type": "stream",
     "text": [
      "-41\n"
     ]
    }
   ],
   "source": [
    "a=40\n",
    "print(~a)"
   ]
  },
  {
   "cell_type": "code",
   "execution_count": 35,
   "id": "91414136",
   "metadata": {},
   "outputs": [
    {
     "data": {
      "text/plain": [
       "160"
      ]
     },
     "execution_count": 35,
     "metadata": {},
     "output_type": "execute_result"
    }
   ],
   "source": [
    "a=40\n",
    "a<<2"
   ]
  },
  {
   "cell_type": "code",
   "execution_count": 36,
   "id": "ff37439f",
   "metadata": {},
   "outputs": [
    {
     "data": {
      "text/plain": [
       "10"
      ]
     },
     "execution_count": 36,
     "metadata": {},
     "output_type": "execute_result"
    }
   ],
   "source": [
    "a = 40\n",
    "a>>2"
   ]
  },
  {
   "cell_type": "markdown",
   "id": "b7f14fbc",
   "metadata": {},
   "source": [
    "### Assignment"
   ]
  },
  {
   "cell_type": "code",
   "execution_count": 37,
   "id": "ae835d14",
   "metadata": {},
   "outputs": [
    {
     "name": "stdout",
     "output_type": "stream",
     "text": [
      "8\n"
     ]
    }
   ],
   "source": [
    "x=3\n",
    "x+=5                                 #combines += together which means x's value and x+='s value\n",
    "print(x)           "
   ]
  },
  {
   "cell_type": "code",
   "execution_count": 6,
   "id": "0042b3cb",
   "metadata": {},
   "outputs": [
    {
     "name": "stdout",
     "output_type": "stream",
     "text": [
      "-1\n"
     ]
    }
   ],
   "source": [
    "x=2\n",
    "x-=3\n",
    "print(x)"
   ]
  },
  {
   "cell_type": "code",
   "execution_count": 7,
   "id": "402f5ec1",
   "metadata": {},
   "outputs": [
    {
     "name": "stdout",
     "output_type": "stream",
     "text": [
      "3.0\n"
     ]
    }
   ],
   "source": [
    "x=6\n",
    "x/=2\n",
    "print(x)"
   ]
  },
  {
   "cell_type": "markdown",
   "id": "38d04fc5",
   "metadata": {},
   "source": [
    "### Identity"
   ]
  },
  {
   "cell_type": "code",
   "execution_count": 39,
   "id": "15f283a5",
   "metadata": {},
   "outputs": [
    {
     "name": "stdout",
     "output_type": "stream",
     "text": [
      "True\n",
      "False\n"
     ]
    }
   ],
   "source": [
    "a=10\n",
    "b=20\n",
    "c=a\n",
    "print(a is not b)\n",
    "print(a is not c)"
   ]
  },
  {
   "cell_type": "markdown",
   "id": "402a4027",
   "metadata": {},
   "source": [
    "### Membership"
   ]
  },
  {
   "cell_type": "code",
   "execution_count": 40,
   "id": "5df1bd67",
   "metadata": {},
   "outputs": [
    {
     "name": "stdout",
     "output_type": "stream",
     "text": [
      "True\n",
      "False\n"
     ]
    }
   ],
   "source": [
    "list = [3,3,2,2,3,33,35,32]\n",
    "print(32 in list)\n",
    "print(3 not in list)"
   ]
  },
  {
   "cell_type": "code",
   "execution_count": null,
   "id": "dd5df841",
   "metadata": {},
   "outputs": [],
   "source": []
  }
 ],
 "metadata": {
  "kernelspec": {
   "display_name": "Python 3 (ipykernel)",
   "language": "python",
   "name": "python3"
  },
  "language_info": {
   "codemirror_mode": {
    "name": "ipython",
    "version": 3
   },
   "file_extension": ".py",
   "mimetype": "text/x-python",
   "name": "python",
   "nbconvert_exporter": "python",
   "pygments_lexer": "ipython3",
   "version": "3.9.12"
  }
 },
 "nbformat": 4,
 "nbformat_minor": 5
}
